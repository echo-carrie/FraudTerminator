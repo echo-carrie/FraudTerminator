{
 "cells": [
  {
   "cell_type": "code",
   "id": "initial_id",
   "metadata": {
    "collapsed": true,
    "ExecuteTime": {
     "end_time": "2024-07-08T08:24:31.255545Z",
     "start_time": "2024-07-08T08:24:30.215317Z"
    }
   },
   "source": [
    "import requests\n",
    "\n",
    "url = \"https://sandbox.ti.qianxin.com/sandbox/fileupload?env=&time=1&analyzer=&zip_pwd=\"\n",
    "\n",
    "payload = {}\n",
    "files=[\n",
    "  ('file',('1ef3b972-5c47-4ff0-9241-afd333ad884c',open('1122197198.apk','rb'),'application/octet-stream'))\n",
    "]\n",
    "headers = {\n",
    "  'Accept': 'application/json, text/plain, */*',\n",
    "  'Accept-Language': 'zh-CN,zh;q=0.9',\n",
    "  'Connection': 'keep-alive',\n",
    "  'Cookie': 'session=ea379247-60e7-430c-9f47-26be91083372; Hm_lvt_62ba181f96e836dd47ca37d8c72dfc33=1720265738; HMACCOUNT=589FC1AA7D1A46A9; lang=chinese; Hm_lvt_d8264b8020f2466f0d32c74495e8f841=1720268218; HMACCOUNT=589FC1AA7D1A46A9; Hm_lpvt_d8264b8020f2466f0d32c74495e8f841=1720269691; Hm_lpvt_62ba181f96e836dd47ca37d8c72dfc33=1720269699',\n",
    "  'DNT': '1',\n",
    "  'Origin': 'https://sandbox.ti.qianxin.com',\n",
    "  'Referer': 'https://sandbox.ti.qianxin.com/sandbox/page',\n",
    "  'User-Agent': 'Mozilla/5.0 (Macintosh; Intel Mac OS X 10_15_7) AppleWebKit/537.36 (KHTML, like Gecko) Chrome/126.0.0.0 Safari/537.36'\n",
    "}\n",
    "\n",
    "response = requests.request(\"POST\", url, headers=headers, data=payload, files=files)\n",
    "\n",
    "print(response.text)\n"
   ],
   "outputs": [
    {
     "name": "stdout",
     "output_type": "stream",
     "text": [
      "{\n",
      "  \"data\": {\n",
      "    \"id\": \"AZCRcca6SZq0HOVfb2Tw\",\n",
      "    \"md5\": \"3bcd92277a42a9bb2b298d531b144aa9\",\n",
      "    \"sha1\": \"7d06bd1e64f6b9a021d200ff883a88bfae86e016\",\n",
      "    \"type\": \"file\"\n",
      "  },\n",
      "  \"msg\": \"ok\",\n",
      "  \"status\": 10000\n",
      "}\n",
      "\n"
     ]
    }
   ],
   "execution_count": 2
  },
  {
   "metadata": {},
   "cell_type": "code",
   "outputs": [],
   "execution_count": null,
   "source": "",
   "id": "74ca974fbc213797"
  }
 ],
 "metadata": {
  "kernelspec": {
   "display_name": "Python 3",
   "language": "python",
   "name": "python3"
  },
  "language_info": {
   "codemirror_mode": {
    "name": "ipython",
    "version": 2
   },
   "file_extension": ".py",
   "mimetype": "text/x-python",
   "name": "python",
   "nbconvert_exporter": "python",
   "pygments_lexer": "ipython2",
   "version": "2.7.6"
  }
 },
 "nbformat": 4,
 "nbformat_minor": 5
}

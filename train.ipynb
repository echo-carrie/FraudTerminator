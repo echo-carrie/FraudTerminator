{
 "cells": [
  {
   "metadata": {
    "ExecuteTime": {
     "end_time": "2024-07-15T06:22:24.822943Z",
     "start_time": "2024-07-15T06:22:21.165921Z"
    }
   },
   "cell_type": "code",
   "source": [
    "# 不要Warnings\n",
    "import warnings\n",
    "warnings.filterwarnings('ignore')\n",
    "\n",
    "# 导入所需的库\n",
    "from sklearn.ensemble import RandomForestClassifier as RF\n",
    "from sklearn.model_selection import cross_val_score\n",
    "from sklearn.metrics import confusion_matrix\n",
    "import pandas as pd\n",
    "\n",
    "train_data = pd.read_csv('./dataset/permissions.csv')\n",
    "labels = train_data[\"Class\"]\n",
    "data = train_data.iloc[:,1:]\n",
    "data = data.iloc[:,:].values\n",
    "srf = RF(n_estimators=500, n_jobs=-1)\n",
    "clf_s = cross_val_score(srf, data, labels, cv=10)\n",
    "print(clf_s)\n",
    "\n",
    "# 绘制混淆矩阵\n",
    "srf.fit(data, labels)\n",
    "cm = confusion_matrix(labels, srf.predict(data))\n",
    "print(cm)\n",
    "\n"
   ],
   "id": "dfd6af1915a332f3",
   "outputs": [
    {
     "name": "stdout",
     "output_type": "stream",
     "text": [
      "[0.66666667 0.55555556 0.66666667 0.77777778 0.66666667 1.\n",
      " 0.66666667 0.77777778 0.77777778 0.55555556]\n",
      "[[22  0  0  0]\n",
      " [ 0 22  0  0]\n",
      " [ 0  0  9  0]\n",
      " [ 0  0  1 36]]\n"
     ]
    }
   ],
   "execution_count": 13
  },
  {
   "metadata": {
    "ExecuteTime": {
     "end_time": "2024-07-15T06:25:02.061226Z",
     "start_time": "2024-07-15T06:25:02.005981Z"
    }
   },
   "cell_type": "code",
   "source": [
    "from tensorflow import keras\n",
    "from tensorflow.keras import layers\n",
    "import numpy as np\n",
    "import pandas as pd\n",
    "import matplotlib.pyplot as plt\n",
    "%matplotlib inline\n",
    "import os\n",
    "os.environ[\"CUDA_DEVICE_ORDER\"] = \"PCI_BUS_ID\"\n",
    "os.environ[\"CUDA_VISIBLE_DEVICES\"] = \"0\"\n",
    "\n",
    "from tensorflow.keras.preprocessing.text import Tokenizer\n",
    "import tensorflow.keras.preprocessing.text as T\n",
    "from tensorflow.keras.preprocessing.sequence import pad_sequences\n",
    "from tensorflow.keras.utils import to_categorical\n",
    "import numpy as np\n",
    "\n",
    "train_data = pd.read_csv('D:\\\\android\\\\dataset\\\\permissions.csv')\n",
    "labels = train_data[\"Class\"]\n",
    "data = train_data.iloc[:,1:]\n",
    "train_data = data.iloc[:,:].values\n",
    "from sklearn.model_selection import StratifiedKFold\n",
    "seed = 7\n",
    "np.random.seed(seed)\n",
    "kfold = StratifiedKFold(n_splits=10, shuffle=True, random_state=seed)\n",
    "cvscores = []\n",
    "\n",
    "for train, test in kfold.split(train_data, labels):\n",
    "    model = keras.Sequential()\n",
    "    model.add(layers.Dense(50,input_dim = 51, activation = 'relu'))\n",
    "    model.add(layers.Dense(16, activation = 'relu'))\n",
    "    model.add(layers.Dense(16, activation = 'relu'))\n",
    "    model.add(layers.Dense(16, activation = 'relu'))\n",
    "    model.add(layers.Dense(16, activation = 'relu'))\n",
    "    model.add(layers.Dense(16, activation = 'relu'))\n",
    "    model.add(layers.Dense(1, activation = 'sigmoid'))\n",
    "    model.compile(\n",
    "    optimizer = 'adam',\n",
    "    loss='binary_crossentropy',\n",
    "    metrics=['acc']\n",
    "    )\n",
    "    model.fit(train_data[train],labels[train],epochs=60, batch_size=256,verbose = 0)\n",
    "    scores = model.evaluate(train_data[test], labels[test], verbose=0)\n",
    "    print(scores[1])\n",
    "    cvscores.append(scores[1])\n",
    "print(cvscores)\n"
   ],
   "id": "2e551f477f7dbe18",
   "outputs": [
    {
     "ename": "ModuleNotFoundError",
     "evalue": "No module named 'tensorflow'",
     "output_type": "error",
     "traceback": [
      "\u001B[0;31m---------------------------------------------------------------------------\u001B[0m",
      "\u001B[0;31mModuleNotFoundError\u001B[0m                       Traceback (most recent call last)",
      "Cell \u001B[0;32mIn[16], line 1\u001B[0m\n\u001B[0;32m----> 1\u001B[0m \u001B[38;5;28;01mfrom\u001B[39;00m \u001B[38;5;21;01mtensorflow\u001B[39;00m \u001B[38;5;28;01mimport\u001B[39;00m keras\n\u001B[1;32m      2\u001B[0m \u001B[38;5;28;01mfrom\u001B[39;00m \u001B[38;5;21;01mtensorflow\u001B[39;00m\u001B[38;5;21;01m.\u001B[39;00m\u001B[38;5;21;01mkeras\u001B[39;00m \u001B[38;5;28;01mimport\u001B[39;00m layers\n\u001B[1;32m      3\u001B[0m \u001B[38;5;28;01mimport\u001B[39;00m \u001B[38;5;21;01mnumpy\u001B[39;00m \u001B[38;5;28;01mas\u001B[39;00m \u001B[38;5;21;01mnp\u001B[39;00m\n",
      "\u001B[0;31mModuleNotFoundError\u001B[0m: No module named 'tensorflow'"
     ]
    }
   ],
   "execution_count": 16
  },
  {
   "metadata": {},
   "cell_type": "code",
   "outputs": [],
   "execution_count": null,
   "source": "",
   "id": "3369b609084edcda"
  }
 ],
 "metadata": {
  "kernelspec": {
   "display_name": "Python 3",
   "language": "python",
   "name": "python3"
  },
  "language_info": {
   "codemirror_mode": {
    "name": "ipython",
    "version": 2
   },
   "file_extension": ".py",
   "mimetype": "text/x-python",
   "name": "python",
   "nbconvert_exporter": "python",
   "pygments_lexer": "ipython2",
   "version": "2.7.6"
  }
 },
 "nbformat": 4,
 "nbformat_minor": 5
}

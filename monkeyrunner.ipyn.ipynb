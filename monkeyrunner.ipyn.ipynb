{
 "cells": [
  {
   "cell_type": "code",
   "id": "initial_id",
   "metadata": {
    "collapsed": true,
    "ExecuteTime": {
     "end_time": "2024-08-21T07:30:01.920793Z",
     "start_time": "2024-08-21T07:29:54.612599Z"
    }
   },
   "source": [
    "import subprocess\n",
    "import time\n",
    "\n",
    "def execute_adb_command(command):\n",
    "    result = subprocess.run(command, shell=True, capture_output=True, text=True)\n",
    "    if result.returncode != 0:\n",
    "        print(f\"Error executing command: {command}\")\n",
    "        print(result.stderr)\n",
    "    return result.stdout.strip()\n",
    "\n",
    "def open_app(package_name):\n",
    "    command = f\"adb shell monkey -p {package_name} -c android.intent.category.LAUNCHER 1\"\n",
    "    execute_adb_command(command)\n",
    "\n",
    "def install_app(package_name):\n",
    "    command = f\"adb install -r {package_name}.apk\"\n",
    "    execute_adb_command(command)\n",
    "\n",
    "def take_screenshot(save_path):\n",
    "    command = f\"adb exec-out screencap -p > {save_path}\"\n",
    "    execute_adb_command(command)\n",
    "\n",
    "def main():\n",
    "    \n",
    "    \n",
    "    # 需要打开的应用的包名\n",
    "    package_name = \"com.dyuiwi.weqeijougydtrfchgmo\"\n",
    "    \n",
    "    # 保存截图的路径\n",
    "    save_path = \"screenshot.png\"\n",
    "    \n",
    "    \n",
    "    # install_app(package_name)\n",
    "\n",
    "    # 打开应用\n",
    "    open_app(package_name)\n",
    "    \n",
    "    # 等待几秒，确保应用已打开\n",
    "    time.sleep(5)\n",
    "    \n",
    "    # 截图\n",
    "    take_screenshot(save_path)\n",
    "    \n",
    "    print(f\"Screenshot saved to {save_path}\")\n",
    "    \n",
    "    import subprocess\n",
    "\n",
    "    def open_image_macos(file_path):\n",
    "        subprocess.run([\"open\", file_path])\n",
    "    \n",
    "    # 示例调用\n",
    "    open_image_macos(\"screenshot.png\")\n",
    "\n",
    "\n",
    "if __name__ == \"__main__\":\n",
    "    main()\n"
   ],
   "outputs": [
    {
     "name": "stdout",
     "output_type": "stream",
     "text": [
      "Screenshot saved to screenshot.png\n"
     ]
    }
   ],
   "execution_count": 3
  },
  {
   "metadata": {},
   "cell_type": "code",
   "outputs": [],
   "execution_count": null,
   "source": "",
   "id": "399fe58c70428e37"
  }
 ],
 "metadata": {
  "kernelspec": {
   "display_name": "Python 3",
   "language": "python",
   "name": "python3"
  },
  "language_info": {
   "codemirror_mode": {
    "name": "ipython",
    "version": 2
   },
   "file_extension": ".py",
   "mimetype": "text/x-python",
   "name": "python",
   "nbconvert_exporter": "python",
   "pygments_lexer": "ipython2",
   "version": "2.7.6"
  }
 },
 "nbformat": 4,
 "nbformat_minor": 5
}
